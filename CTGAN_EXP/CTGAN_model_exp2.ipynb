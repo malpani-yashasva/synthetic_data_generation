{
  "nbformat": 4,
  "nbformat_minor": 0,
  "metadata": {
    "colab": {
      "provenance": [],
      "gpuType": "T4"
    },
    "kernelspec": {
      "name": "python3",
      "display_name": "Python 3"
    },
    "language_info": {
      "name": "python"
    },
    "accelerator": "GPU"
  },
  "cells": [
    {
      "cell_type": "code",
      "execution_count": 2,
      "metadata": {
        "id": "cZjT2B09DlcA"
      },
      "outputs": [],
      "source": [
        "import tensorflow as tf\n",
        "import numpy as np\n",
        "import pandas as pd\n",
        "import pathlib"
      ]
    },
    {
      "cell_type": "code",
      "source": [
        "BASE_DIR = pathlib.Path().absolute()\n",
        "NOTEBOOKS_DIR = BASE_DIR / \"notebooks\""
      ],
      "metadata": {
        "id": "YTtF7s6CDtBK"
      },
      "execution_count": 4,
      "outputs": []
    },
    {
      "cell_type": "code",
      "source": [
        "from os import mkdir\n",
        "mkdir(NOTEBOOKS_DIR)"
      ],
      "metadata": {
        "id": "I7AfHL0xc8tW"
      },
      "execution_count": 5,
      "outputs": []
    },
    {
      "cell_type": "code",
      "source": [
        "GET_DATA_NOTEBOOK_PATH = NOTEBOOKS_DIR / \"Fetching_data.ipynb\"\n",
        "PRE_PROCESS_DATA_NOTEBOOK_PATH = NOTEBOOKS_DIR / \"Preprocess_data.ipynb\""
      ],
      "metadata": {
        "id": "ss6HlB3ddBSq"
      },
      "execution_count": 6,
      "outputs": []
    },
    {
      "cell_type": "code",
      "source": [
        "!curl \"https://raw.githubusercontent.com/malpani-yashasva/synthetic_data_generation/master/notebooks/Fetching_data.ipynb\" -o \"$GET_DATA_NOTEBOOK_PATH\"\n",
        "!curl \"https://raw.githubusercontent.com/malpani-yashasva/synthetic_data_generation/master/notebooks/Preprocess_data.ipynb\" -o \"$PRE_PROCESS_DATA_NOTEBOOK_PATH\""
      ],
      "metadata": {
        "colab": {
          "base_uri": "https://localhost:8080/"
        },
        "id": "xv10uSeTePcK",
        "outputId": "8da87a6b-3e16-445c-d927-0c7c594a0515"
      },
      "execution_count": 7,
      "outputs": [
        {
          "output_type": "stream",
          "name": "stdout",
          "text": [
            "  % Total    % Received % Xferd  Average Speed   Time    Time     Time  Current\n",
            "                                 Dload  Upload   Total   Spent    Left  Speed\n",
            "100 27568  100 27568    0     0   135k      0 --:--:-- --:--:-- --:--:--  135k\n",
            "  % Total    % Received % Xferd  Average Speed   Time    Time     Time  Current\n",
            "                                 Dload  Upload   Total   Spent    Left  Speed\n",
            "100 46870  100 46870    0     0   214k      0 --:--:-- --:--:-- --:--:--  214k\n"
          ]
        }
      ]
    },
    {
      "cell_type": "code",
      "source": [
        "%run \"$GET_DATA_NOTEBOOK_PATH\"\n",
        "%run \"$PRE_PROCESS_DATA_NOTEBOOK_PATH\""
      ],
      "metadata": {
        "id": "5nkCha4uesyv"
      },
      "execution_count": 8,
      "outputs": []
    },
    {
      "cell_type": "code",
      "source": [
        "df = pd.read_csv(\"/data/processed_csv.csv\")"
      ],
      "metadata": {
        "id": "gvb-r0Rle4Cu"
      },
      "execution_count": 9,
      "outputs": []
    },
    {
      "cell_type": "code",
      "source": [
        "import json\n",
        "with open(\"/data/metadata.json\", 'r') as infile:\n",
        "  metadata_json = json.load(infile)\n",
        "\n",
        "metadata_json"
      ],
      "metadata": {
        "colab": {
          "base_uri": "https://localhost:8080/"
        },
        "id": "in2OZwU9gbgx",
        "outputId": "0236eafa-7c6f-409e-9321-deaedd0ad70b"
      },
      "execution_count": 14,
      "outputs": [
        {
          "output_type": "execute_result",
          "data": {
            "text/plain": [
              "{'num_features': 116, 'num_labels': 23}"
            ]
          },
          "metadata": {},
          "execution_count": 14
        }
      ]
    },
    {
      "cell_type": "code",
      "source": [
        "num_features = metadata_json['num_features']\n",
        "num_labels = metadata_json['num_labels']"
      ],
      "metadata": {
        "id": "lV-b5-VEg5rW"
      },
      "execution_count": 15,
      "outputs": []
    },
    {
      "cell_type": "code",
      "source": [
        "train_tensor = tf.convert_to_tensor(df, dtype=tf.dtypes.float32)\n",
        "train_tensor"
      ],
      "metadata": {
        "colab": {
          "base_uri": "https://localhost:8080/"
        },
        "id": "M8tTUTrOfUWb",
        "outputId": "2af67688-b09a-4636-cb28-ab2e7e38fc57"
      },
      "execution_count": 10,
      "outputs": [
        {
          "output_type": "execute_result",
          "data": {
            "text/plain": [
              "<tf.Tensor: shape=(494021, 139), dtype=float32, numpy=\n",
              "array([[0.0000000e+00, 2.6104178e-07, 1.0571301e-03, ..., 0.0000000e+00,\n",
              "        0.0000000e+00, 0.0000000e+00],\n",
              "       [0.0000000e+00, 3.4469051e-07, 9.4268842e-05, ..., 0.0000000e+00,\n",
              "        0.0000000e+00, 0.0000000e+00],\n",
              "       [0.0000000e+00, 3.3892164e-07, 2.5933629e-04, ..., 0.0000000e+00,\n",
              "        0.0000000e+00, 0.0000000e+00],\n",
              "       ...,\n",
              "       [0.0000000e+00, 2.9277061e-07, 2.3276257e-04, ..., 0.0000000e+00,\n",
              "        0.0000000e+00, 0.0000000e+00],\n",
              "       [0.0000000e+00, 4.1968593e-07, 2.3276257e-04, ..., 0.0000000e+00,\n",
              "        0.0000000e+00, 0.0000000e+00],\n",
              "       [0.0000000e+00, 3.1584611e-07, 2.3935751e-04, ..., 0.0000000e+00,\n",
              "        0.0000000e+00, 0.0000000e+00]], dtype=float32)>"
            ]
          },
          "metadata": {},
          "execution_count": 10
        }
      ]
    },
    {
      "cell_type": "code",
      "source": [
        "from tensorflow import keras\n",
        "from keras import layers"
      ],
      "metadata": {
        "id": "V4cNEPVbf9Sm"
      },
      "execution_count": 12,
      "outputs": []
    },
    {
      "cell_type": "code",
      "source": [
        "LATENT_DIMENSIONS = 100\n",
        "InputA = layers.Input(shape=(LATENT_DIMENSIONS + num_labels, ))\n",
        "a = layers.Dense(50, activation='linear')(InputA)\n",
        "a = layers.Dense(50, activation='tanh')(a)\n",
        "a = layers.LeakyReLU(0.3)(a)\n",
        "a = layers.Dense(25, activation='linear')(a)\n",
        "a = layers.Dense(25, activation='tanh')(a)\n",
        "a = layers.LeakyReLU(0.3)(a)\n",
        "a = layers.Dense(10, activation='linear')(a)\n",
        "a = layers.Dense(10, activation='tanh')(a)\n",
        "a = layers.LeakyReLU(0.3)(a)\n",
        "outputA = layers.Dense(3, activation='softmax')(a)\n",
        "modelA = keras.Model(inputs=InputA, outputs=outputA)\n",
        "InputB = layers.Input(shape=(LATENT_DIMENSIONS + num_labels, ))\n",
        "b = layers.Dense(100, activation='linear')(InputB)\n",
        "b = layers.Dense(100, activation='tanh')(b)\n",
        "b = layers.LeakyReLU(0.3)(b)\n",
        "b = layers.Dense(80, activation='linear')(b)\n",
        "b = layers.Dense(80, activation='tanh')(b)\n",
        "b = layers.LeakyReLU(0.3)(b)\n",
        "b = layers.Dense(50, activation='linear')(b)\n",
        "b = layers.Dense(50, activation='tanh')(b)\n",
        "b = layers.LeakyReLU(0.3)(b)\n",
        "outputB = layers.Dense(66, activation='softmax')(b)\n",
        "modelB = keras.Model(inputs=InputB, outputs=outputB)\n",
        "InputC = layers.Input(shape=(LATENT_DIMENSIONS + num_labels, ))\n",
        "c = layers.Dense(50, activation='linear')(InputC)\n",
        "c = layers.Dense(50, activation='tanh')(c)\n",
        "c = layers.LeakyReLU(0.3)(c)\n",
        "c = layers.Dense(30, activation='linear')(c)\n",
        "c = layers.Dense(30, activation='tanh')(c)\n",
        "c = layers.LeakyReLU(0.3)(c)\n",
        "c = layers.Dense(25, activation='linear')(c)\n",
        "c = layers.Dense(25, activation='tanh')(c)\n",
        "c = layers.LeakyReLU(0.3)(c)\n",
        "c = layers.Dense(15, activation='tanh')(c)\n",
        "c = layers.LeakyReLU(0.3)(c)\n",
        "outputC = layers.Dense(11, activation='softmax')(c)\n",
        "modelC = keras.Model(inputs=InputC, outputs=outputC)\n",
        "\n",
        "InputE = layers.Input(shape=(LATENT_DIMENSIONS + num_labels, ))\n",
        "e = layers.Dense(50, activation='linear')(InputE)\n",
        "e = layers.Dense(50, activation='tanh')(e)\n",
        "e = layers.LeakyReLU(0.3)(e)\n",
        "e = layers.Dense(45, activation='linear')(e)\n",
        "e = layers.Dense(45, activation='tanh')(e)\n",
        "e = layers.LeakyReLU(0.3)(e)\n",
        "e = layers.Dense(40, activation='linear')(e)\n",
        "e = layers.Dense(40, activation='tanh')(e)\n",
        "e = layers.LeakyReLU(0.3)(e)\n",
        "outputE = layers.Dense(36, activation='sigmoid')(e)\n",
        "modelE = keras.Model(inputs=InputE, outputs=outputE)\n",
        "\n",
        "main_input1 = layers.Input(shape=(LATENT_DIMENSIONS, ))\n",
        "main_input2 = layers.Input(shape=(num_labels, ))\n",
        "main_input = layers.Concatenate(axis=1)([main_input1, main_input2])\n",
        "\n",
        "d = layers.Dense(50, activation='linear')(main_input)\n",
        "d = layers.Dense(40, activation = 'linear')(d)\n",
        "d = layers.LeakyReLU(0.3)(d)\n",
        "d = layers.Dense(30, activation = 'linear')(d)\n",
        "outputD = layers.Dense(23, activation='softmax')(d)\n",
        "modelD = keras.Model(inputs=main_input, outputs = outputD)\n",
        "\n",
        "main_output = layers.Concatenate(axis = 1)([modelE(main_input), modelA(main_input), modelB(main_input), modelC(main_input)])\n",
        "generator = keras.Model(inputs = [main_input1, main_input2], outputs = [main_output, outputD])\n",
        "generator.summary()"
      ],
      "metadata": {
        "colab": {
          "base_uri": "https://localhost:8080/"
        },
        "id": "FDO-CsErf1iP",
        "outputId": "ee5b0862-7e3e-4d9e-fdf5-d7a139236ef7"
      },
      "execution_count": 16,
      "outputs": [
        {
          "output_type": "stream",
          "name": "stdout",
          "text": [
            "Model: \"model_11\"\n",
            "__________________________________________________________________________________________________\n",
            " Layer (type)                Output Shape                 Param #   Connected to                  \n",
            "==================================================================================================\n",
            " input_12 (InputLayer)       [(None, 100)]                0         []                            \n",
            "                                                                                                  \n",
            " input_13 (InputLayer)       [(None, 23)]                 0         []                            \n",
            "                                                                                                  \n",
            " concatenate_2 (Concatenate  (None, 123)                  0         ['input_12[0][0]',            \n",
            " )                                                                   'input_13[0][0]']            \n",
            "                                                                                                  \n",
            " dense_62 (Dense)            (None, 50)                   6200      ['concatenate_2[0][0]']       \n",
            "                                                                                                  \n",
            " dense_63 (Dense)            (None, 40)                   2040      ['dense_62[0][0]']            \n",
            "                                                                                                  \n",
            " leaky_re_lu_27 (LeakyReLU)  (None, 40)                   0         ['dense_63[0][0]']            \n",
            "                                                                                                  \n",
            " model_9 (Functional)        (None, 36)                   18071     ['concatenate_2[0][0]']       \n",
            "                                                                                                  \n",
            " model_6 (Functional)        (None, 3)                    11078     ['concatenate_2[0][0]']       \n",
            "                                                                                                  \n",
            " model_7 (Functional)        (None, 66)                   47026     ['concatenate_2[0][0]']       \n",
            "                                                                                                  \n",
            " model_8 (Functional)        (None, 11)                   13201     ['concatenate_2[0][0]']       \n",
            "                                                                                                  \n",
            " dense_64 (Dense)            (None, 30)                   1230      ['leaky_re_lu_27[0][0]']      \n",
            "                                                                                                  \n",
            " concatenate_3 (Concatenate  (None, 116)                  0         ['model_9[0][0]',             \n",
            " )                                                                   'model_6[0][0]',             \n",
            "                                                                     'model_7[0][0]',             \n",
            "                                                                     'model_8[0][0]']             \n",
            "                                                                                                  \n",
            " dense_65 (Dense)            (None, 23)                   713       ['dense_64[0][0]']            \n",
            "                                                                                                  \n",
            "==================================================================================================\n",
            "Total params: 99559 (388.90 KB)\n",
            "Trainable params: 99559 (388.90 KB)\n",
            "Non-trainable params: 0 (0.00 Byte)\n",
            "__________________________________________________________________________________________________\n"
          ]
        }
      ]
    },
    {
      "cell_type": "code",
      "source": [
        "critic_input = layers.Input(shape=(num_features, ))\n",
        "critic_label_input = layers.Input(shape=(num_labels, ))\n",
        "c1 = layers.Concatenate(axis = 1)([critic_input, critic_label_input])\n",
        "c = layers.Dense(139, activation='linear')(c1)\n",
        "c = layers.LeakyReLU(0.3)(c)\n",
        "c = layers.Dense(139, activation='tanh')(c)\n",
        "c = layers.Add()([c1, c])\n",
        "c2 = layers.Dense(120, activation='linear')(c)\n",
        "c = layers.LeakyReLU(0.3)(c2)\n",
        "c = layers.Dense(120, activation='tanh')(c)\n",
        "c = layers.Add()([c2, c])\n",
        "c3 = layers.Dense(80, activation='linear')(c)\n",
        "c = layers.LeakyReLU(0.3)(c3)\n",
        "c = layers.Dense(80, activation='tanh')(c)\n",
        "c = layers.Add()([c3, c])\n",
        "c4 = layers.Dense(40, activation='linear')(c)\n",
        "c = layers.LeakyReLU(0.3)(c4)\n",
        "c = layers.Dense(40, activation='tanh')(c)\n",
        "c = layers.Add()([c4, c])\n",
        "c5 = layers.Dense(10, activation='linear')(c)\n",
        "c = layers.LeakyReLU(0.3)(c5)\n",
        "c = layers.Dense(5, activation='linear')(c)\n",
        "c = layers.LeakyReLU(0.3)(c)\n",
        "c_output = layers.Dense(1, activation='linear')(c)\n",
        "critic = keras.Model(inputs = [critic_input, critic_label_input], outputs = c_output)\n",
        "critic.summary()"
      ],
      "metadata": {
        "colab": {
          "base_uri": "https://localhost:8080/"
        },
        "id": "pz1V6J1XgIDb",
        "outputId": "5bb093df-f38b-4186-e812-43798100182b"
      },
      "execution_count": 17,
      "outputs": [
        {
          "output_type": "stream",
          "name": "stdout",
          "text": [
            "Model: \"model_12\"\n",
            "__________________________________________________________________________________________________\n",
            " Layer (type)                Output Shape                 Param #   Connected to                  \n",
            "==================================================================================================\n",
            " input_15 (InputLayer)       [(None, 116)]                0         []                            \n",
            "                                                                                                  \n",
            " input_16 (InputLayer)       [(None, 23)]                 0         []                            \n",
            "                                                                                                  \n",
            " concatenate_4 (Concatenate  (None, 139)                  0         ['input_15[0][0]',            \n",
            " )                                                                   'input_16[0][0]']            \n",
            "                                                                                                  \n",
            " dense_66 (Dense)            (None, 139)                  19460     ['concatenate_4[0][0]']       \n",
            "                                                                                                  \n",
            " leaky_re_lu_28 (LeakyReLU)  (None, 139)                  0         ['dense_66[0][0]']            \n",
            "                                                                                                  \n",
            " dense_67 (Dense)            (None, 139)                  19460     ['leaky_re_lu_28[0][0]']      \n",
            "                                                                                                  \n",
            " add (Add)                   (None, 139)                  0         ['concatenate_4[0][0]',       \n",
            "                                                                     'dense_67[0][0]']            \n",
            "                                                                                                  \n",
            " dense_68 (Dense)            (None, 120)                  16800     ['add[0][0]']                 \n",
            "                                                                                                  \n",
            " leaky_re_lu_29 (LeakyReLU)  (None, 120)                  0         ['dense_68[0][0]']            \n",
            "                                                                                                  \n",
            " dense_69 (Dense)            (None, 120)                  14520     ['leaky_re_lu_29[0][0]']      \n",
            "                                                                                                  \n",
            " add_1 (Add)                 (None, 120)                  0         ['dense_68[0][0]',            \n",
            "                                                                     'dense_69[0][0]']            \n",
            "                                                                                                  \n",
            " dense_70 (Dense)            (None, 80)                   9680      ['add_1[0][0]']               \n",
            "                                                                                                  \n",
            " leaky_re_lu_30 (LeakyReLU)  (None, 80)                   0         ['dense_70[0][0]']            \n",
            "                                                                                                  \n",
            " dense_71 (Dense)            (None, 80)                   6480      ['leaky_re_lu_30[0][0]']      \n",
            "                                                                                                  \n",
            " add_2 (Add)                 (None, 80)                   0         ['dense_70[0][0]',            \n",
            "                                                                     'dense_71[0][0]']            \n",
            "                                                                                                  \n",
            " dense_72 (Dense)            (None, 40)                   3240      ['add_2[0][0]']               \n",
            "                                                                                                  \n",
            " leaky_re_lu_31 (LeakyReLU)  (None, 40)                   0         ['dense_72[0][0]']            \n",
            "                                                                                                  \n",
            " dense_73 (Dense)            (None, 40)                   1640      ['leaky_re_lu_31[0][0]']      \n",
            "                                                                                                  \n",
            " add_3 (Add)                 (None, 40)                   0         ['dense_72[0][0]',            \n",
            "                                                                     'dense_73[0][0]']            \n",
            "                                                                                                  \n",
            " dense_74 (Dense)            (None, 10)                   410       ['add_3[0][0]']               \n",
            "                                                                                                  \n",
            " leaky_re_lu_32 (LeakyReLU)  (None, 10)                   0         ['dense_74[0][0]']            \n",
            "                                                                                                  \n",
            " dense_75 (Dense)            (None, 5)                    55        ['leaky_re_lu_32[0][0]']      \n",
            "                                                                                                  \n",
            " leaky_re_lu_33 (LeakyReLU)  (None, 5)                    0         ['dense_75[0][0]']            \n",
            "                                                                                                  \n",
            " dense_76 (Dense)            (None, 1)                    6         ['leaky_re_lu_33[0][0]']      \n",
            "                                                                                                  \n",
            "==================================================================================================\n",
            "Total params: 91751 (358.40 KB)\n",
            "Trainable params: 91751 (358.40 KB)\n",
            "Non-trainable params: 0 (0.00 Byte)\n",
            "__________________________________________________________________________________________________\n"
          ]
        }
      ]
    },
    {
      "cell_type": "code",
      "source": [
        "class CTGAN(keras.Model):\n",
        "  def __init__(self, generator, critic, latent_dim, critic_extra_steps, gp_weight):\n",
        "    super().__init__()\n",
        "    self.generator = generator\n",
        "    self.critic = critic\n",
        "    self.latent_dim = latent_dim\n",
        "    self.critic_extra_steps = critic_extra_steps\n",
        "    self.gp_weight = gp_weight\n",
        "\n",
        "  def compile(self, g_opt, c_opt, c_loss_fn, g_loss_fn):\n",
        "    super().compile()\n",
        "    self.g_opt = g_opt\n",
        "    self.c_opt = c_opt\n",
        "    self.c_loss_fn = c_loss_fn\n",
        "    self.g_loss_fn = g_loss_fn\n",
        "\n",
        "  def reg_term(self, batch_size, z1, z2, c):\n",
        "    \"\"\"\n",
        "    This function calculates the mode seeking regularisation term which reduces the euclidian distance between\n",
        "    two latent vectors in the latent space created by the generator network\n",
        "    \"\"\"\n",
        "    del_z = tf.norm(z1 - z2, ord='euclidean', axis=-1)\n",
        "    del_z = tf.reduce_mean(del_z)\n",
        "    [X1, c1] = self.generator([z1, c], training=True)\n",
        "    [X2, c2] = self.generator([z2, c], training=True)\n",
        "    del_X = tf.norm(X1 - X2, ord='euclidean', axis=-1)\n",
        "    del_X = tf.reduce_mean(del_X)\n",
        "    return del_X/del_z\n",
        "\n",
        "  def gradient_penalty(self, batch_size, real_data, fake_data, one_hot_labels):\n",
        "    \"\"\"\n",
        "    This function return the classic gradient penalty term used in WGAN networks which is used to regularize the critic\n",
        "    network output\n",
        "    \"\"\"\n",
        "    alpha = tf.random.normal([batch_size, 1], 0.0, 1.0)\n",
        "    fake_data = tf.cast(fake_data, dtype = tf.float32)\n",
        "    real_data = tf.cast(real_data, dtype = tf.float32)\n",
        "    diff = fake_data - real_data\n",
        "    interpolated_data = real_data + alpha * diff\n",
        "\n",
        "    with tf.GradientTape() as gp_tape:\n",
        "      gp_tape.watch(interpolated_data)\n",
        "      pred = self.critic([interpolated_data, one_hot_labels], training=True)\n",
        "\n",
        "    grads = gp_tape.gradient(pred, [interpolated_data])[0]\n",
        "    #Calculate the norm of the gradients.\n",
        "    norm = tf.sqrt(tf.reduce_sum(tf.square(grads), axis=[1]))\n",
        "    gp = tf.reduce_mean((norm - 1.0) ** 2)\n",
        "    return gp\n",
        "\n",
        "  def train_step(self, data):\n",
        "    real_tensor, real_labels = data\n",
        "    latent_vector_size = tf.shape(real_tensor)[0]\n",
        "    coeff = 1/latent_vector_size\n",
        "    coeff = tf.cast(coeff, dtype=tf.dtypes.float32)\n",
        "    for i in range(self.critic_extra_steps):\n",
        "      random_latent_vector = tf.random.normal([latent_vector_size, self.latent_dim], 0.0, 1.0)\n",
        "      with tf.GradientTape() as tape:\n",
        "        [fake_data, fake_labels] = self.generator([random_latent_vector, real_labels], training = True)\n",
        "        fake_logits = self.critic([fake_data, fake_labels], training = True)\n",
        "        real_logits = self.critic([real_tensor, real_labels], training = True)\n",
        "        c_wass_loss = self.c_loss_fn(real_logits, fake_logits)\n",
        "        c_gp_loss = self.gradient_penalty(latent_vector_size, real_tensor, fake_data, fake_labels)\n",
        "        c_loss = c_wass_loss + self.gp_weight * c_gp_loss\n",
        "        c_loss = c_loss * coeff\n",
        "\n",
        "      c_gradients = tape.gradient(c_loss, self.critic.trainable_variables)\n",
        "      self.c_opt.apply_gradients(zip(c_gradients, self.critic.trainable_variables))\n",
        "\n",
        "    random_latent_vector = tf.random.normal([latent_vector_size, self.latent_dim], 0.0, 1.0)\n",
        "    with tf.GradientTape() as tape:\n",
        "      [fake_data, fake_labels] = self.generator([random_latent_vector, real_labels], training = True)\n",
        "      fake_logits = self.critic([fake_data, fake_labels])\n",
        "      g_loss1 = self.g_loss_fn(fake_logits)\n",
        "      g_loss2 = keras.losses.categorical_crossentropy(fake_labels, real_labels)\n",
        "      z1 = tf.random.normal([latent_vector_size, self.latent_dim], 0.0, 1.0)\n",
        "      z2 = tf.random.normal([latent_vector_size, self.latent_dim], 0.0, 1.0)\n",
        "      mode_seeking_term = self.reg_term(latent_vector_size, z1, z2, real_labels)\n",
        "      g_loss = g_loss1 + tf.reduce_mean(g_loss2) - 10.0 * mode_seeking_term\n",
        "      g_loss = g_loss * coeff\n",
        "\n",
        "    g_gradients = tape.gradient(g_loss, self.generator.trainable_variables)\n",
        "    self.g_opt.apply_gradients(zip(g_gradients, self.generator.trainable_variables))\n",
        "\n",
        "    return {'c_loss' : c_loss, 'g_loss' : g_loss}\n",
        "\n",
        "\n",
        "def critic_loss(real_logits, fake_logits):\n",
        "    real_loss = tf.reduce_mean(real_logits)\n",
        "    fake_loss = tf.reduce_mean(fake_logits)\n",
        "    return (fake_loss - real_loss)\n",
        "\n",
        "def generator_loss(fake_logits):\n",
        "    return -tf.reduce_mean(fake_logits)\n",
        "\n",
        "generator_optimizer = keras.optimizers.Adam(\n",
        "    learning_rate=0.001, beta_1=0.5, beta_2=0.9\n",
        ")\n",
        "critic_optimizer = keras.optimizers.Adam(\n",
        "    learning_rate=0.001, beta_1=0.5, beta_2=0.9\n",
        ")\n",
        "\n",
        "ctgan = CTGAN(\n",
        "    generator = generator,\n",
        "    critic = critic,\n",
        "    latent_dim = LATENT_DIMENSIONS,\n",
        "    critic_extra_steps = 1,\n",
        "    gp_weight = 10.0\n",
        ")\n",
        "\n",
        "ctgan.compile(\n",
        "    g_opt = generator_optimizer,\n",
        "    c_opt = critic_optimizer,\n",
        "    c_loss_fn = critic_loss,\n",
        "    g_loss_fn = generator_loss\n",
        ")"
      ],
      "metadata": {
        "id": "-ufTlqVbhTuo"
      },
      "execution_count": 18,
      "outputs": []
    },
    {
      "cell_type": "code",
      "source": [
        "real_dataframe = pd.DataFrame(train_tensor)\n",
        "sampling_pool = []\n",
        "\n",
        "for i in range(num_labels):\n",
        "  select = real_dataframe.loc[real_dataframe[i + num_features] == 1.0]\n",
        "  sampling_pool.append(select)"
      ],
      "metadata": {
        "id": "eqh2hUbIhaEW"
      },
      "execution_count": 24,
      "outputs": []
    },
    {
      "cell_type": "code",
      "source": [
        "# Here we construct a probability mass function for each label in our real dataset\n",
        "# This ensures that the data generated by our generator mimics real data distribution.\n",
        "label_pmf = np.ndarray(shape=[num_labels, ])\n",
        "for i in range(num_labels):\n",
        "  label_pmf[i] = len(sampling_pool[i])/len(real_dataframe)"
      ],
      "metadata": {
        "id": "euz4RN91hyWr"
      },
      "execution_count": 25,
      "outputs": []
    },
    {
      "cell_type": "code",
      "source": [
        "label_pmf"
      ],
      "metadata": {
        "colab": {
          "base_uri": "https://localhost:8080/"
        },
        "id": "irHdHE3Hh6cC",
        "outputId": "e90bc14b-189f-417a-ac30-13aee08f273c"
      },
      "execution_count": 26,
      "outputs": [
        {
          "output_type": "execute_result",
          "data": {
            "text/plain": [
              "array([4.45932460e-03, 6.07261635e-05, 1.61936436e-05, 1.07282889e-04,\n",
              "       2.42904654e-05, 2.52418419e-03, 4.25083144e-05, 1.82178490e-05,\n",
              "       1.41694381e-05, 2.16996848e-01, 4.67591459e-04, 1.96910658e-01,\n",
              "       6.07261635e-06, 8.09682180e-06, 5.34390238e-04, 2.10517367e-03,\n",
              "       2.02420545e-05, 3.21646246e-03, 5.68376648e-01, 4.04841090e-06,\n",
              "       1.98169713e-03, 2.06468956e-03, 4.04841090e-05])"
            ]
          },
          "metadata": {},
          "execution_count": 26
        }
      ]
    },
    {
      "cell_type": "code",
      "source": [
        "BATCH_SIZE = 1024\n",
        "# Now we define a function for sampling a particular label type from our dataset and then train our generator and critic\n",
        "# This method is known as training by sampling method usually used in conditional GAN architectures\n",
        "def train_ctgan(ctgan_model, sampling_pool, num_epochs, k_value):\n",
        "  select_dataframe = sampling_pool[k_value]\n",
        "  if len(select_dataframe) > BATCH_SIZE:\n",
        "    select_dataframe = select_dataframe.sample(BATCH_SIZE)\n",
        "  real_labels = tf.convert_to_tensor(select_dataframe[np.arange(num_features, num_features + num_labels)], dtype=tf.dtypes.float32)\n",
        "  real_tensor = tf.convert_to_tensor(select_dataframe[np.arange(0, num_features)], dtype = tf.dtypes.float32)\n",
        "  dataset = tf.data.Dataset.from_tensor_slices((real_tensor, real_labels))\n",
        "  dataset = dataset.shuffle(buffer_size=1024).batch(len(real_tensor))\n",
        "  history = ctgan_model.fit(dataset, epochs = num_epochs, verbose = 0)\n",
        "\n",
        "  return history"
      ],
      "metadata": {
        "id": "QFN1zcW2iAX8"
      },
      "execution_count": 36,
      "outputs": []
    },
    {
      "cell_type": "code",
      "source": [
        "NUM_K_VALUES = 1000\n",
        "choices = np.arange(num_labels)\n",
        "k_values = np.random.choice(choices, NUM_K_VALUES, p=label_pmf)\n",
        "training_history = []"
      ],
      "metadata": {
        "collapsed": true,
        "id": "zvq8qxeAjSgF"
      },
      "execution_count": 62,
      "outputs": []
    },
    {
      "cell_type": "code",
      "source": [
        "import seaborn as sns\n",
        "sns.displot(k_values.reshape(-1, 1))"
      ],
      "metadata": {
        "colab": {
          "base_uri": "https://localhost:8080/",
          "height": 524
        },
        "id": "xCYasFWxjpW3",
        "outputId": "9c0a2c97-43d9-4c14-dcbd-fd94e10a06de"
      },
      "execution_count": 63,
      "outputs": [
        {
          "output_type": "execute_result",
          "data": {
            "text/plain": [
              "<seaborn.axisgrid.FacetGrid at 0x7d26f2cce650>"
            ]
          },
          "metadata": {},
          "execution_count": 63
        },
        {
          "output_type": "display_data",
          "data": {
            "text/plain": [
              "<Figure size 558.75x500 with 1 Axes>"
            ],
            "image/png": "[encoded data removed]"
          },
          "metadata": {}
        }
      ]
    },
    {
      "cell_type": "code",
      "source": [
        "for i in range(NUM_K_VALUES):\n",
        "   k_value = k_values[i]\n",
        "   history = train_ctgan(ctgan_model = ctgan, num_epochs = 2, sampling_pool = sampling_pool, k_value = k_value)\n",
        "   training_history.append(history.history)\n",
        "   if(i % (NUM_K_VALUES/10) == 0):\n",
        "    print(f\"c_loss : {training_history[i]['c_loss'][0]}     -     g_loss : {training_history[i]['g_loss'][0]}\")"
      ],
      "metadata": {
        "colab": {
          "base_uri": "https://localhost:8080/"
        },
        "id": "IhtKy8PojvTF",
        "outputId": "cf0c4ab1-c908-4913-f982-aa768493be2e"
      },
      "execution_count": 64,
      "outputs": [
        {
          "output_type": "stream",
          "name": "stdout",
          "text": [
            "c_loss : -0.00040017388528212905     -     g_loss : -0.001281204167753458\n",
            "c_loss : -0.001516734017059207     -     g_loss : -0.0013069596607238054\n",
            "c_loss : -0.0004095014010090381     -     g_loss : -0.0016251400811597705\n",
            "c_loss : -0.0006913417018949986     -     g_loss : -0.0016077347099781036\n",
            "c_loss : -0.0013908154796808958     -     g_loss : -0.0010949834249913692\n",
            "c_loss : -0.0006444811588153243     -     g_loss : -0.001262268633581698\n",
            "c_loss : -0.0012293478939682245     -     g_loss : -0.00010288448538631201\n",
            "c_loss : -0.0012861185241490602     -     g_loss : -0.0005251800175756216\n",
            "c_loss : -0.000517123902682215     -     g_loss : -0.0005642444011755288\n",
            "c_loss : -0.0012534502893686295     -     g_loss : -0.00022104103118181229\n"
          ]
        }
      ]
    },
    {
      "cell_type": "code",
      "source": [
        "MODEL_DIR = BASE_DIR / \"models\"\n",
        "MODEL_DIR.mkdir(exist_ok=True)"
      ],
      "metadata": {
        "id": "0INLygeFld9l"
      },
      "execution_count": 65,
      "outputs": []
    },
    {
      "cell_type": "code",
      "source": [
        "GENERATOR_MODEL_PATH = MODEL_DIR / \"generator.keras\"\n",
        "CRITIC_MODEL_PATH = MODEL_DIR / \"critic.keras\""
      ],
      "metadata": {
        "id": "YI6-iupMmsbt"
      },
      "execution_count": 66,
      "outputs": []
    },
    {
      "cell_type": "code",
      "source": [
        "generator.save(GENERATOR_MODEL_PATH)\n",
        "critic.save(CRITIC_MODEL_PATH)"
      ],
      "metadata": {
        "id": "sJoD0UXem3QM"
      },
      "execution_count": 67,
      "outputs": []
    },
    {
      "cell_type": "code",
      "source": [
        "random_latent_vector = tf.random.normal([len(train_tensor), LATENT_DIMENSIONS])\n",
        "labels = tf.convert_to_tensor(pd.DataFrame(train_tensor)[np.arange(num_features, num_features + num_labels)])\n",
        "fake_data, fake_labels = generator([random_latent_vector, labels])"
      ],
      "metadata": {
        "id": "Ey5m6bJAm57-"
      },
      "execution_count": 68,
      "outputs": []
    },
    {
      "cell_type": "code",
      "source": [
        "c_loss=[]\n",
        "g_loss = []\n",
        "for i in range(len(training_history)):\n",
        "   for loss in training_history[i]['c_loss']:\n",
        "     c_loss.append(loss)\n",
        "   for loss in training_history[i]['g_loss']:\n",
        "     g_loss.append(loss)"
      ],
      "metadata": {
        "id": "XF24H_FJnwu2"
      },
      "execution_count": 69,
      "outputs": []
    },
    {
      "cell_type": "code",
      "source": [
        "import matplotlib.pyplot as plt\n",
        "plt.plot(c_loss)\n",
        "ax = plt.gca()\n",
        "ax.set_ylim(-0.005, 0.005)\n",
        "plt.show()"
      ],
      "metadata": {
        "colab": {
          "base_uri": "https://localhost:8080/",
          "height": 430
        },
        "id": "SSCF_vs3oPLy",
        "outputId": "986d0842-7b43-4460-e50b-6e59ad43e9fb"
      },
      "execution_count": 70,
      "outputs": [
        {
          "output_type": "display_data",
          "data": {
            "text/plain": [
              "<Figure size 640x480 with 1 Axes>"
            ],
            "image/png": "[encoded data removed]"
          },
          "metadata": {}
        }
      ]
    },
    {
      "cell_type": "code",
      "source": [
        "plt.plot(g_loss)\n",
        "ax = plt.gca()\n",
        "ax.set_ylim(-0.005, 0.005)\n",
        "plt.show()"
      ],
      "metadata": {
        "colab": {
          "base_uri": "https://localhost:8080/",
          "height": 430
        },
        "id": "VRmsOS4xoTGz",
        "outputId": "0c836744-d512-498a-fe65-04adc6b11147"
      },
      "execution_count": 71,
      "outputs": [
        {
          "output_type": "display_data",
          "data": {
            "text/plain": [
              "<Figure size 640x480 with 1 Axes>"
            ],
            "image/png": "[encoded data removed]"
          },
          "metadata": {}
        }
      ]
    },
    {
      "cell_type": "code",
      "source": [
        "# to measure the quality of data produced, we train an intrusion detection model on the fake data produced.\n",
        "# then we use this trained model to evaluate on real data. The higher the evaluation accuracy, better the dataset produced\n",
        "intrusion_detection_model = keras.Sequential([\n",
        "    layers.Input(shape=(num_features,)),\n",
        "    layers.Dense(100, activation='linear'),\n",
        "    layers.LeakyReLU(0.3),\n",
        "    layers.Dense(85, activation = 'relu'),\n",
        "    layers.Dense(75, activation='linear'),\n",
        "    layers.LeakyReLU(0.3),\n",
        "    layers.Dense(50, activation='relu'),\n",
        "    layers.Dense(23, activation='softmax')\n",
        "])\n",
        "\n",
        "intrusion_detection_model.compile(loss = keras.losses.CategoricalCrossentropy(),\n",
        "               optimizer = keras.optimizers.Adam(learning_rate = 0.001),\n",
        "               metrics = ['accuracy'])\n",
        "\n",
        "intrusion_detection_model.fit(fake_data, fake_labels, epochs = 5, verbose = 1, batch_size = BATCH_SIZE)"
      ],
      "metadata": {
        "colab": {
          "base_uri": "https://localhost:8080/"
        },
        "id": "3c6D2tsUo5_S",
        "outputId": "4ca30911-4589-48b5-8cff-5f822a30b128"
      },
      "execution_count": 72,
      "outputs": [
        {
          "output_type": "stream",
          "name": "stdout",
          "text": [
            "Epoch 1/5\n",
            "483/483 [==============================] - 3s 4ms/step - loss: 0.3160 - accuracy: 0.9090\n",
            "Epoch 2/5\n",
            "483/483 [==============================] - 2s 5ms/step - loss: 0.2220 - accuracy: 0.9256\n",
            "Epoch 3/5\n",
            "483/483 [==============================] - 2s 4ms/step - loss: 0.2207 - accuracy: 0.9258\n",
            "Epoch 4/5\n",
            "483/483 [==============================] - 2s 4ms/step - loss: 0.2199 - accuracy: 0.9261\n",
            "Epoch 5/5\n",
            "483/483 [==============================] - 2s 4ms/step - loss: 0.2197 - accuracy: 0.9261\n"
          ]
        },
        {
          "output_type": "execute_result",
          "data": {
            "text/plain": [
              "<keras.src.callbacks.History at 0x7d26d38ab760>"
            ]
          },
          "metadata": {},
          "execution_count": 72
        }
      ]
    },
    {
      "cell_type": "code",
      "source": [
        "from sklearn import model_selection\n",
        "real_dataframe = pd.DataFrame(train_tensor)\n",
        "labels_one_hot = real_dataframe[np.arange(num_features, num_features + num_labels)]\n",
        "real_dataframe.drop(np.arange(num_features, num_features + num_labels), axis = 1, inplace = True)\n",
        "\n",
        "X_train, X_test, y_train, y_test = model_selection.train_test_split(\n",
        "    real_dataframe,\n",
        "    labels_one_hot,\n",
        "    test_size = 0.3,\n",
        "    train_size = 0.7,\n",
        "    random_state = 42,\n",
        "    shuffle = True\n",
        ")\n",
        "X_train = tf.convert_to_tensor(X_train, dtype = tf.dtypes.float32)\n",
        "X_test = tf.convert_to_tensor(X_test, dtype = tf.dtypes.float32)\n",
        "y_train = tf.convert_to_tensor(y_train, dtype = tf.dtypes.float32)\n",
        "y_test = tf.convert_to_tensor(y_test, dtype = tf.dtypes.float32)\n"
      ],
      "metadata": {
        "id": "qzGUt9CJpJ7y"
      },
      "execution_count": 73,
      "outputs": []
    },
    {
      "cell_type": "code",
      "source": [
        "intrusion_detection_model.evaluate(X_train, y_train)"
      ],
      "metadata": {
        "colab": {
          "base_uri": "https://localhost:8080/"
        },
        "id": "Ltmmo88_poyP",
        "outputId": "fb9d351a-3ff8-4bb7-df1c-a5cf8b2d06c3"
      },
      "execution_count": 74,
      "outputs": [
        {
          "output_type": "stream",
          "name": "stdout",
          "text": [
            "10807/10807 [==============================] - 26s 2ms/step - loss: 0.2427 - accuracy: 0.9531\n"
          ]
        },
        {
          "output_type": "execute_result",
          "data": {
            "text/plain": [
              "[0.2427423894405365, 0.9531106352806091]"
            ]
          },
          "metadata": {},
          "execution_count": 74
        }
      ]
    },
    {
      "cell_type": "code",
      "source": [
        "intrusion_detection_model.evaluate(X_test, y_test)"
      ],
      "metadata": {
        "colab": {
          "base_uri": "https://localhost:8080/"
        },
        "id": "b5ndJ5uKputS",
        "outputId": "d44905d2-4b8f-4a9a-ab2f-469ca3f4a8d1"
      },
      "execution_count": 75,
      "outputs": [
        {
          "output_type": "stream",
          "name": "stdout",
          "text": [
            "4632/4632 [==============================] - 11s 2ms/step - loss: 0.2430 - accuracy: 0.9535\n"
          ]
        },
        {
          "output_type": "execute_result",
          "data": {
            "text/plain": [
              "[0.24301820993423462, 0.9534637331962585]"
            ]
          },
          "metadata": {},
          "execution_count": 75
        }
      ]
    }
  ]
}